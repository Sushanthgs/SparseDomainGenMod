{
 "cells": [
  {
   "cell_type": "code",
   "execution_count": 1,
   "metadata": {},
   "outputs": [],
   "source": [
    "import tensorflow as tf \n",
    "import numpy as np \n",
    "import matplotlib.pyplot as plt"
   ]
  },
  {
   "cell_type": "code",
   "execution_count": 3,
   "metadata": {},
   "outputs": [],
   "source": [
    "(xTrain,yTrain),(xTest,yTest)=tf.keras.datasets.mnist.load_data()"
   ]
  },
  {
   "cell_type": "code",
   "execution_count": 8,
   "metadata": {},
   "outputs": [],
   "source": [
    "def preprocData(dSet):\n",
    "    dSetRes=dSet.reshape(dSet.shape[0],-1).T/255.0\n",
    "    dSetMean=np.mean(dSetRes,axis=1).reshape(-1,1)\n",
    "    return(dSetRes,dSetMean)\n",
    "xTrainPreproc,trainSetMean=preprocData(xTrain)\n",
    "xTrainPreproc-=trainSetMean\n",
    "xTestPreproc,_=preprocData(xTest)\n",
    "xTestPreproc-=trainSetMean"
   ]
  },
  {
   "cell_type": "code",
   "execution_count": null,
   "metadata": {},
   "outputs": [],
   "source": [
    "class sparseOrthoDictionaryTrainer:\n",
    "    def __init__(self,trainData,spp,numIter,dictInit=None):\n",
    "        if(dictInit is None):\n",
    "            randSel=np.random.RandomState(2500).permutation(xTrainPreproc.shape[1])[:1001]\n",
    "            dictInit,_,_=np.linalg.svd(xTrainPreproc[:,randSel])\n",
    "            initDict=dictInit\n",
    "        self.spp=spp\n",
    "        self.err=np.zeros((numIter,1))\n",
    "        self.trainData=trainData\n",
    "        self.dict=dictInit\n",
    "    def spCode(self):\n",
    "        proj=self.dict.T@self.trainData\n",
    "        proj_s=np.sort(proj,axis=0)[-self.spp,:]\n",
    "        proj=proj*(np.abs(proj)>=proj_s)\n",
    "        self.proj=proj\n",
    "    def dictUpdate(self):\n",
    "        mat=proj@dat.T\n",
    "        u,_,v=np.linalg.svd(mat)\n",
    "        self.dict=v.T@u.T\n",
    "    def fitDict(self):\n",
    "        for i in range(self.numIter):\n",
    "            self.spCode()\n",
    "            self.err[i]=np.mean((self.trainData-self.dict@self.proj)**2)\n",
    "            self.dictUpdate()\n",
    "    \n",
    "\n",
    "    "
   ]
  }
 ],
 "metadata": {
  "kernelspec": {
   "display_name": "tf_env",
   "language": "python",
   "name": "python3"
  },
  "language_info": {
   "codemirror_mode": {
    "name": "ipython",
    "version": 3
   },
   "file_extension": ".py",
   "mimetype": "text/x-python",
   "name": "python",
   "nbconvert_exporter": "python",
   "pygments_lexer": "ipython3",
   "version": "3.7.12"
  },
  "orig_nbformat": 4
 },
 "nbformat": 4,
 "nbformat_minor": 2
}
